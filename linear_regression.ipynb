{
  "nbformat": 4,
  "nbformat_minor": 0,
  "metadata": {
    "colab": {
      "name": "linear_regression.ipynb",
      "provenance": [],
      "authorship_tag": "ABX9TyNG0S0qSh1xBdEQ2iULxG5P",
      "include_colab_link": true
    },
    "kernelspec": {
      "name": "python3",
      "display_name": "Python 3"
    },
    "language_info": {
      "name": "python"
    }
  },
  "cells": [
    {
      "cell_type": "markdown",
      "metadata": {
        "id": "view-in-github",
        "colab_type": "text"
      },
      "source": [
        "<a href=\"https://colab.research.google.com/github/js0807/ai_study/blob/main/linear_regression.ipynb\" target=\"_parent\"><img src=\"https://colab.research.google.com/assets/colab-badge.svg\" alt=\"Open In Colab\"/></a>"
      ]
    },
    {
      "cell_type": "markdown",
      "metadata": {
        "id": "I_Tw7-fbOhfS"
      },
      "source": [
        "**import 및 기초다지기(데이터 가공)**"
      ]
    },
    {
      "cell_type": "code",
      "metadata": {
        "id": "Q0oz5qNeHK7M",
        "colab": {
          "base_uri": "https://localhost:8080/"
        },
        "outputId": "986ac421-4ba1-4f4f-f9da-d25c9aecc68e"
      },
      "source": [
        "!pip install seaborn"
      ],
      "execution_count": null,
      "outputs": [
        {
          "output_type": "stream",
          "text": [
            "Requirement already satisfied: seaborn in /usr/local/lib/python3.7/dist-packages (0.11.1)\n",
            "Requirement already satisfied: matplotlib>=2.2 in /usr/local/lib/python3.7/dist-packages (from seaborn) (3.2.2)\n",
            "Requirement already satisfied: numpy>=1.15 in /usr/local/lib/python3.7/dist-packages (from seaborn) (1.19.5)\n",
            "Requirement already satisfied: pandas>=0.23 in /usr/local/lib/python3.7/dist-packages (from seaborn) (1.1.5)\n",
            "Requirement already satisfied: scipy>=1.0 in /usr/local/lib/python3.7/dist-packages (from seaborn) (1.4.1)\n",
            "Requirement already satisfied: kiwisolver>=1.0.1 in /usr/local/lib/python3.7/dist-packages (from matplotlib>=2.2->seaborn) (1.3.1)\n",
            "Requirement already satisfied: pyparsing!=2.0.4,!=2.1.2,!=2.1.6,>=2.0.1 in /usr/local/lib/python3.7/dist-packages (from matplotlib>=2.2->seaborn) (2.4.7)\n",
            "Requirement already satisfied: cycler>=0.10 in /usr/local/lib/python3.7/dist-packages (from matplotlib>=2.2->seaborn) (0.10.0)\n",
            "Requirement already satisfied: python-dateutil>=2.1 in /usr/local/lib/python3.7/dist-packages (from matplotlib>=2.2->seaborn) (2.8.1)\n",
            "Requirement already satisfied: six in /usr/local/lib/python3.7/dist-packages (from cycler>=0.10->matplotlib>=2.2->seaborn) (1.15.0)\n",
            "Requirement already satisfied: pytz>=2017.2 in /usr/local/lib/python3.7/dist-packages (from pandas>=0.23->seaborn) (2018.9)\n"
          ],
          "name": "stdout"
        }
      ]
    },
    {
      "cell_type": "code",
      "metadata": {
        "colab": {
          "base_uri": "https://localhost:8080/"
        },
        "id": "Sx9lA-CFIwFc",
        "outputId": "21025e6d-869e-4da1-8359-879dd6bc2b9c"
      },
      "source": [
        "import pathlib\n",
        "\n",
        "import matplotlib.pyplot as plt\n",
        "import pandas as pd\n",
        "import seaborn as sns\n",
        "\n",
        "import tensorflow as tf\n",
        "from tensorflow import keras\n",
        "from tensorflow.keras import layers\n",
        "\n",
        "print(tf.__version__)"
      ],
      "execution_count": null,
      "outputs": [
        {
          "output_type": "stream",
          "text": [
            "2.5.0\n"
          ],
          "name": "stdout"
        }
      ]
    },
    {
      "cell_type": "code",
      "metadata": {
        "colab": {
          "base_uri": "https://localhost:8080/",
          "height": 91
        },
        "id": "TjkCMlSOIwmU",
        "outputId": "c181d6ea-f4eb-43d9-d545-8120718c2277"
      },
      "source": [
        "dataset_path = keras.utils.get_file(\"auto-mpg.data\", \"http://archive.ics.uci.edu/ml/machine-learning-databases/auto-mpg/auto-mpg.data\")\n",
        "dataset_path"
      ],
      "execution_count": null,
      "outputs": [
        {
          "output_type": "stream",
          "text": [
            "Downloading data from http://archive.ics.uci.edu/ml/machine-learning-databases/auto-mpg/auto-mpg.data\n",
            "32768/30286 [================================] - 0s 2us/step\n"
          ],
          "name": "stdout"
        },
        {
          "output_type": "execute_result",
          "data": {
            "application/vnd.google.colaboratory.intrinsic+json": {
              "type": "string"
            },
            "text/plain": [
              "'/root/.keras/datasets/auto-mpg.data'"
            ]
          },
          "metadata": {
            "tags": []
          },
          "execution_count": 3
        }
      ]
    },
    {
      "cell_type": "code",
      "metadata": {
        "colab": {
          "base_uri": "https://localhost:8080/",
          "height": 241
        },
        "id": "bZ4C6w0GIz_z",
        "outputId": "2e6ed67c-fb78-4bdc-db05-b65d574d27cc"
      },
      "source": [
        "column_names = ['MPG','Cylinders','Displacement','Horsepower','Weight',\n",
        "                'Acceleration', 'Model Year', 'Origin']\n",
        "raw_dataset = pd.read_csv(dataset_path, names=column_names,\n",
        "                      na_values = \"?\", comment='\\t',\n",
        "                      sep=\" \", skipinitialspace=True)\n",
        "\n",
        "dataset = raw_dataset.copy()\n",
        "dataset.tail()"
      ],
      "execution_count": null,
      "outputs": [
        {
          "output_type": "execute_result",
          "data": {
            "text/html": [
              "<div>\n",
              "<style scoped>\n",
              "    .dataframe tbody tr th:only-of-type {\n",
              "        vertical-align: middle;\n",
              "    }\n",
              "\n",
              "    .dataframe tbody tr th {\n",
              "        vertical-align: top;\n",
              "    }\n",
              "\n",
              "    .dataframe thead th {\n",
              "        text-align: right;\n",
              "    }\n",
              "</style>\n",
              "<table border=\"1\" class=\"dataframe\">\n",
              "  <thead>\n",
              "    <tr style=\"text-align: right;\">\n",
              "      <th></th>\n",
              "      <th>MPG</th>\n",
              "      <th>Cylinders</th>\n",
              "      <th>Displacement</th>\n",
              "      <th>Horsepower</th>\n",
              "      <th>Weight</th>\n",
              "      <th>Acceleration</th>\n",
              "      <th>Model Year</th>\n",
              "      <th>Origin</th>\n",
              "    </tr>\n",
              "  </thead>\n",
              "  <tbody>\n",
              "    <tr>\n",
              "      <th>393</th>\n",
              "      <td>27.0</td>\n",
              "      <td>4</td>\n",
              "      <td>140.0</td>\n",
              "      <td>86.0</td>\n",
              "      <td>2790.0</td>\n",
              "      <td>15.6</td>\n",
              "      <td>82</td>\n",
              "      <td>1</td>\n",
              "    </tr>\n",
              "    <tr>\n",
              "      <th>394</th>\n",
              "      <td>44.0</td>\n",
              "      <td>4</td>\n",
              "      <td>97.0</td>\n",
              "      <td>52.0</td>\n",
              "      <td>2130.0</td>\n",
              "      <td>24.6</td>\n",
              "      <td>82</td>\n",
              "      <td>2</td>\n",
              "    </tr>\n",
              "    <tr>\n",
              "      <th>395</th>\n",
              "      <td>32.0</td>\n",
              "      <td>4</td>\n",
              "      <td>135.0</td>\n",
              "      <td>84.0</td>\n",
              "      <td>2295.0</td>\n",
              "      <td>11.6</td>\n",
              "      <td>82</td>\n",
              "      <td>1</td>\n",
              "    </tr>\n",
              "    <tr>\n",
              "      <th>396</th>\n",
              "      <td>28.0</td>\n",
              "      <td>4</td>\n",
              "      <td>120.0</td>\n",
              "      <td>79.0</td>\n",
              "      <td>2625.0</td>\n",
              "      <td>18.6</td>\n",
              "      <td>82</td>\n",
              "      <td>1</td>\n",
              "    </tr>\n",
              "    <tr>\n",
              "      <th>397</th>\n",
              "      <td>31.0</td>\n",
              "      <td>4</td>\n",
              "      <td>119.0</td>\n",
              "      <td>82.0</td>\n",
              "      <td>2720.0</td>\n",
              "      <td>19.4</td>\n",
              "      <td>82</td>\n",
              "      <td>1</td>\n",
              "    </tr>\n",
              "  </tbody>\n",
              "</table>\n",
              "</div>"
            ],
            "text/plain": [
              "      MPG  Cylinders  Displacement  ...  Acceleration  Model Year  Origin\n",
              "393  27.0          4         140.0  ...          15.6          82       1\n",
              "394  44.0          4          97.0  ...          24.6          82       2\n",
              "395  32.0          4         135.0  ...          11.6          82       1\n",
              "396  28.0          4         120.0  ...          18.6          82       1\n",
              "397  31.0          4         119.0  ...          19.4          82       1\n",
              "\n",
              "[5 rows x 8 columns]"
            ]
          },
          "metadata": {
            "tags": []
          },
          "execution_count": 4
        }
      ]
    },
    {
      "cell_type": "code",
      "metadata": {
        "colab": {
          "base_uri": "https://localhost:8080/"
        },
        "id": "jZWQsXcRI3dd",
        "outputId": "19be9e73-86ce-44b2-b419-d02f3b0e1e60"
      },
      "source": [
        "dataset.head()\n",
        "len(dataset)"
      ],
      "execution_count": null,
      "outputs": [
        {
          "output_type": "execute_result",
          "data": {
            "text/plain": [
              "398"
            ]
          },
          "metadata": {
            "tags": []
          },
          "execution_count": 5
        }
      ]
    },
    {
      "cell_type": "code",
      "metadata": {
        "colab": {
          "base_uri": "https://localhost:8080/",
          "height": 241
        },
        "id": "uro6Lt4UI5sr",
        "outputId": "5d0c5918-37ba-4cf2-f004-22e7fb54e446"
      },
      "source": [
        "dataset.head()"
      ],
      "execution_count": null,
      "outputs": [
        {
          "output_type": "execute_result",
          "data": {
            "text/html": [
              "<div>\n",
              "<style scoped>\n",
              "    .dataframe tbody tr th:only-of-type {\n",
              "        vertical-align: middle;\n",
              "    }\n",
              "\n",
              "    .dataframe tbody tr th {\n",
              "        vertical-align: top;\n",
              "    }\n",
              "\n",
              "    .dataframe thead th {\n",
              "        text-align: right;\n",
              "    }\n",
              "</style>\n",
              "<table border=\"1\" class=\"dataframe\">\n",
              "  <thead>\n",
              "    <tr style=\"text-align: right;\">\n",
              "      <th></th>\n",
              "      <th>MPG</th>\n",
              "      <th>Cylinders</th>\n",
              "      <th>Displacement</th>\n",
              "      <th>Horsepower</th>\n",
              "      <th>Weight</th>\n",
              "      <th>Acceleration</th>\n",
              "      <th>Model Year</th>\n",
              "      <th>Origin</th>\n",
              "    </tr>\n",
              "  </thead>\n",
              "  <tbody>\n",
              "    <tr>\n",
              "      <th>0</th>\n",
              "      <td>18.0</td>\n",
              "      <td>8</td>\n",
              "      <td>307.0</td>\n",
              "      <td>130.0</td>\n",
              "      <td>3504.0</td>\n",
              "      <td>12.0</td>\n",
              "      <td>70</td>\n",
              "      <td>1</td>\n",
              "    </tr>\n",
              "    <tr>\n",
              "      <th>1</th>\n",
              "      <td>15.0</td>\n",
              "      <td>8</td>\n",
              "      <td>350.0</td>\n",
              "      <td>165.0</td>\n",
              "      <td>3693.0</td>\n",
              "      <td>11.5</td>\n",
              "      <td>70</td>\n",
              "      <td>1</td>\n",
              "    </tr>\n",
              "    <tr>\n",
              "      <th>2</th>\n",
              "      <td>18.0</td>\n",
              "      <td>8</td>\n",
              "      <td>318.0</td>\n",
              "      <td>150.0</td>\n",
              "      <td>3436.0</td>\n",
              "      <td>11.0</td>\n",
              "      <td>70</td>\n",
              "      <td>1</td>\n",
              "    </tr>\n",
              "    <tr>\n",
              "      <th>3</th>\n",
              "      <td>16.0</td>\n",
              "      <td>8</td>\n",
              "      <td>304.0</td>\n",
              "      <td>150.0</td>\n",
              "      <td>3433.0</td>\n",
              "      <td>12.0</td>\n",
              "      <td>70</td>\n",
              "      <td>1</td>\n",
              "    </tr>\n",
              "    <tr>\n",
              "      <th>4</th>\n",
              "      <td>17.0</td>\n",
              "      <td>8</td>\n",
              "      <td>302.0</td>\n",
              "      <td>140.0</td>\n",
              "      <td>3449.0</td>\n",
              "      <td>10.5</td>\n",
              "      <td>70</td>\n",
              "      <td>1</td>\n",
              "    </tr>\n",
              "  </tbody>\n",
              "</table>\n",
              "</div>"
            ],
            "text/plain": [
              "    MPG  Cylinders  Displacement  ...  Acceleration  Model Year  Origin\n",
              "0  18.0          8         307.0  ...          12.0          70       1\n",
              "1  15.0          8         350.0  ...          11.5          70       1\n",
              "2  18.0          8         318.0  ...          11.0          70       1\n",
              "3  16.0          8         304.0  ...          12.0          70       1\n",
              "4  17.0          8         302.0  ...          10.5          70       1\n",
              "\n",
              "[5 rows x 8 columns]"
            ]
          },
          "metadata": {
            "tags": []
          },
          "execution_count": 6
        }
      ]
    },
    {
      "cell_type": "code",
      "metadata": {
        "id": "WkO5gPHcI7sr"
      },
      "source": [
        "dataset=dataset.dropna()"
      ],
      "execution_count": null,
      "outputs": []
    },
    {
      "cell_type": "code",
      "metadata": {
        "colab": {
          "base_uri": "https://localhost:8080/"
        },
        "id": "jNw3y3ubJIWU",
        "outputId": "1cfaf1e3-9f5e-4f0d-f343-1d820ecad6e7"
      },
      "source": [
        "len(dataset)"
      ],
      "execution_count": null,
      "outputs": [
        {
          "output_type": "execute_result",
          "data": {
            "text/plain": [
              "392"
            ]
          },
          "metadata": {
            "tags": []
          },
          "execution_count": 10
        }
      ]
    },
    {
      "cell_type": "code",
      "metadata": {
        "colab": {
          "base_uri": "https://localhost:8080/"
        },
        "id": "hUz1IUrFJJrk",
        "outputId": "e79cce1f-c92c-4b24-f431-0f4b716414e1"
      },
      "source": [
        "dataset.pop('Origin')"
      ],
      "execution_count": null,
      "outputs": [
        {
          "output_type": "execute_result",
          "data": {
            "text/plain": [
              "0      1\n",
              "1      1\n",
              "2      1\n",
              "3      1\n",
              "4      1\n",
              "      ..\n",
              "393    1\n",
              "394    2\n",
              "395    1\n",
              "396    1\n",
              "397    1\n",
              "Name: Origin, Length: 392, dtype: int64"
            ]
          },
          "metadata": {
            "tags": []
          },
          "execution_count": 11
        }
      ]
    },
    {
      "cell_type": "code",
      "metadata": {
        "colab": {
          "base_uri": "https://localhost:8080/",
          "height": 436
        },
        "id": "kkxEWCPAJQ88",
        "outputId": "42269463-fe19-42c4-8c9e-366e5f0c317a"
      },
      "source": [
        "dataset"
      ],
      "execution_count": null,
      "outputs": [
        {
          "output_type": "execute_result",
          "data": {
            "text/html": [
              "<div>\n",
              "<style scoped>\n",
              "    .dataframe tbody tr th:only-of-type {\n",
              "        vertical-align: middle;\n",
              "    }\n",
              "\n",
              "    .dataframe tbody tr th {\n",
              "        vertical-align: top;\n",
              "    }\n",
              "\n",
              "    .dataframe thead th {\n",
              "        text-align: right;\n",
              "    }\n",
              "</style>\n",
              "<table border=\"1\" class=\"dataframe\">\n",
              "  <thead>\n",
              "    <tr style=\"text-align: right;\">\n",
              "      <th></th>\n",
              "      <th>MPG</th>\n",
              "      <th>Cylinders</th>\n",
              "      <th>Displacement</th>\n",
              "      <th>Horsepower</th>\n",
              "      <th>Weight</th>\n",
              "      <th>Acceleration</th>\n",
              "      <th>Model Year</th>\n",
              "    </tr>\n",
              "  </thead>\n",
              "  <tbody>\n",
              "    <tr>\n",
              "      <th>0</th>\n",
              "      <td>18.0</td>\n",
              "      <td>8</td>\n",
              "      <td>307.0</td>\n",
              "      <td>130.0</td>\n",
              "      <td>3504.0</td>\n",
              "      <td>12.0</td>\n",
              "      <td>70</td>\n",
              "    </tr>\n",
              "    <tr>\n",
              "      <th>1</th>\n",
              "      <td>15.0</td>\n",
              "      <td>8</td>\n",
              "      <td>350.0</td>\n",
              "      <td>165.0</td>\n",
              "      <td>3693.0</td>\n",
              "      <td>11.5</td>\n",
              "      <td>70</td>\n",
              "    </tr>\n",
              "    <tr>\n",
              "      <th>2</th>\n",
              "      <td>18.0</td>\n",
              "      <td>8</td>\n",
              "      <td>318.0</td>\n",
              "      <td>150.0</td>\n",
              "      <td>3436.0</td>\n",
              "      <td>11.0</td>\n",
              "      <td>70</td>\n",
              "    </tr>\n",
              "    <tr>\n",
              "      <th>3</th>\n",
              "      <td>16.0</td>\n",
              "      <td>8</td>\n",
              "      <td>304.0</td>\n",
              "      <td>150.0</td>\n",
              "      <td>3433.0</td>\n",
              "      <td>12.0</td>\n",
              "      <td>70</td>\n",
              "    </tr>\n",
              "    <tr>\n",
              "      <th>4</th>\n",
              "      <td>17.0</td>\n",
              "      <td>8</td>\n",
              "      <td>302.0</td>\n",
              "      <td>140.0</td>\n",
              "      <td>3449.0</td>\n",
              "      <td>10.5</td>\n",
              "      <td>70</td>\n",
              "    </tr>\n",
              "    <tr>\n",
              "      <th>...</th>\n",
              "      <td>...</td>\n",
              "      <td>...</td>\n",
              "      <td>...</td>\n",
              "      <td>...</td>\n",
              "      <td>...</td>\n",
              "      <td>...</td>\n",
              "      <td>...</td>\n",
              "    </tr>\n",
              "    <tr>\n",
              "      <th>393</th>\n",
              "      <td>27.0</td>\n",
              "      <td>4</td>\n",
              "      <td>140.0</td>\n",
              "      <td>86.0</td>\n",
              "      <td>2790.0</td>\n",
              "      <td>15.6</td>\n",
              "      <td>82</td>\n",
              "    </tr>\n",
              "    <tr>\n",
              "      <th>394</th>\n",
              "      <td>44.0</td>\n",
              "      <td>4</td>\n",
              "      <td>97.0</td>\n",
              "      <td>52.0</td>\n",
              "      <td>2130.0</td>\n",
              "      <td>24.6</td>\n",
              "      <td>82</td>\n",
              "    </tr>\n",
              "    <tr>\n",
              "      <th>395</th>\n",
              "      <td>32.0</td>\n",
              "      <td>4</td>\n",
              "      <td>135.0</td>\n",
              "      <td>84.0</td>\n",
              "      <td>2295.0</td>\n",
              "      <td>11.6</td>\n",
              "      <td>82</td>\n",
              "    </tr>\n",
              "    <tr>\n",
              "      <th>396</th>\n",
              "      <td>28.0</td>\n",
              "      <td>4</td>\n",
              "      <td>120.0</td>\n",
              "      <td>79.0</td>\n",
              "      <td>2625.0</td>\n",
              "      <td>18.6</td>\n",
              "      <td>82</td>\n",
              "    </tr>\n",
              "    <tr>\n",
              "      <th>397</th>\n",
              "      <td>31.0</td>\n",
              "      <td>4</td>\n",
              "      <td>119.0</td>\n",
              "      <td>82.0</td>\n",
              "      <td>2720.0</td>\n",
              "      <td>19.4</td>\n",
              "      <td>82</td>\n",
              "    </tr>\n",
              "  </tbody>\n",
              "</table>\n",
              "<p>392 rows × 7 columns</p>\n",
              "</div>"
            ],
            "text/plain": [
              "      MPG  Cylinders  Displacement  ...  Weight  Acceleration  Model Year\n",
              "0    18.0          8         307.0  ...  3504.0          12.0          70\n",
              "1    15.0          8         350.0  ...  3693.0          11.5          70\n",
              "2    18.0          8         318.0  ...  3436.0          11.0          70\n",
              "3    16.0          8         304.0  ...  3433.0          12.0          70\n",
              "4    17.0          8         302.0  ...  3449.0          10.5          70\n",
              "..    ...        ...           ...  ...     ...           ...         ...\n",
              "393  27.0          4         140.0  ...  2790.0          15.6          82\n",
              "394  44.0          4          97.0  ...  2130.0          24.6          82\n",
              "395  32.0          4         135.0  ...  2295.0          11.6          82\n",
              "396  28.0          4         120.0  ...  2625.0          18.6          82\n",
              "397  31.0          4         119.0  ...  2720.0          19.4          82\n",
              "\n",
              "[392 rows x 7 columns]"
            ]
          },
          "metadata": {
            "tags": []
          },
          "execution_count": 13
        }
      ]
    },
    {
      "cell_type": "code",
      "metadata": {
        "id": "fEuyIheoJSn0"
      },
      "source": [
        "train_dataset=dataset.sample(frac=0.8,random_state=0)"
      ],
      "execution_count": null,
      "outputs": []
    },
    {
      "cell_type": "code",
      "metadata": {
        "id": "mN96fws5Jq6E"
      },
      "source": [
        "test_dataset=dataset.drop(train_dataset.index)"
      ],
      "execution_count": null,
      "outputs": []
    },
    {
      "cell_type": "code",
      "metadata": {
        "colab": {
          "base_uri": "https://localhost:8080/"
        },
        "id": "Qw8_MOL5Jwy0",
        "outputId": "1123f9fe-e8ed-4521-e96c-1e83f85d1345"
      },
      "source": [
        "len(train_dataset), len(test_dataset)"
      ],
      "execution_count": null,
      "outputs": [
        {
          "output_type": "execute_result",
          "data": {
            "text/plain": [
              "(314, 78)"
            ]
          },
          "metadata": {
            "tags": []
          },
          "execution_count": 16
        }
      ]
    },
    {
      "cell_type": "code",
      "metadata": {
        "colab": {
          "base_uri": "https://localhost:8080/",
          "height": 255
        },
        "id": "jEbsx04uJ12t",
        "outputId": "48e0b6dd-7e54-461b-d268-c84133a5169c"
      },
      "source": [
        "train_stats = train_dataset.describe()\n",
        "train_stats.pop(\"MPG\")\n",
        "train_stats=train_stats.transpose()\n",
        "train_stats"
      ],
      "execution_count": null,
      "outputs": [
        {
          "output_type": "execute_result",
          "data": {
            "text/html": [
              "<div>\n",
              "<style scoped>\n",
              "    .dataframe tbody tr th:only-of-type {\n",
              "        vertical-align: middle;\n",
              "    }\n",
              "\n",
              "    .dataframe tbody tr th {\n",
              "        vertical-align: top;\n",
              "    }\n",
              "\n",
              "    .dataframe thead th {\n",
              "        text-align: right;\n",
              "    }\n",
              "</style>\n",
              "<table border=\"1\" class=\"dataframe\">\n",
              "  <thead>\n",
              "    <tr style=\"text-align: right;\">\n",
              "      <th></th>\n",
              "      <th>count</th>\n",
              "      <th>mean</th>\n",
              "      <th>std</th>\n",
              "      <th>min</th>\n",
              "      <th>25%</th>\n",
              "      <th>50%</th>\n",
              "      <th>75%</th>\n",
              "      <th>max</th>\n",
              "    </tr>\n",
              "  </thead>\n",
              "  <tbody>\n",
              "    <tr>\n",
              "      <th>Cylinders</th>\n",
              "      <td>314.0</td>\n",
              "      <td>5.477707</td>\n",
              "      <td>1.699788</td>\n",
              "      <td>3.0</td>\n",
              "      <td>4.00</td>\n",
              "      <td>4.0</td>\n",
              "      <td>8.00</td>\n",
              "      <td>8.0</td>\n",
              "    </tr>\n",
              "    <tr>\n",
              "      <th>Displacement</th>\n",
              "      <td>314.0</td>\n",
              "      <td>195.318471</td>\n",
              "      <td>104.331589</td>\n",
              "      <td>68.0</td>\n",
              "      <td>105.50</td>\n",
              "      <td>151.0</td>\n",
              "      <td>265.75</td>\n",
              "      <td>455.0</td>\n",
              "    </tr>\n",
              "    <tr>\n",
              "      <th>Horsepower</th>\n",
              "      <td>314.0</td>\n",
              "      <td>104.869427</td>\n",
              "      <td>38.096214</td>\n",
              "      <td>46.0</td>\n",
              "      <td>76.25</td>\n",
              "      <td>94.5</td>\n",
              "      <td>128.00</td>\n",
              "      <td>225.0</td>\n",
              "    </tr>\n",
              "    <tr>\n",
              "      <th>Weight</th>\n",
              "      <td>314.0</td>\n",
              "      <td>2990.251592</td>\n",
              "      <td>843.898596</td>\n",
              "      <td>1649.0</td>\n",
              "      <td>2256.50</td>\n",
              "      <td>2822.5</td>\n",
              "      <td>3608.00</td>\n",
              "      <td>5140.0</td>\n",
              "    </tr>\n",
              "    <tr>\n",
              "      <th>Acceleration</th>\n",
              "      <td>314.0</td>\n",
              "      <td>15.559236</td>\n",
              "      <td>2.789230</td>\n",
              "      <td>8.0</td>\n",
              "      <td>13.80</td>\n",
              "      <td>15.5</td>\n",
              "      <td>17.20</td>\n",
              "      <td>24.8</td>\n",
              "    </tr>\n",
              "    <tr>\n",
              "      <th>Model Year</th>\n",
              "      <td>314.0</td>\n",
              "      <td>75.898089</td>\n",
              "      <td>3.675642</td>\n",
              "      <td>70.0</td>\n",
              "      <td>73.00</td>\n",
              "      <td>76.0</td>\n",
              "      <td>79.00</td>\n",
              "      <td>82.0</td>\n",
              "    </tr>\n",
              "  </tbody>\n",
              "</table>\n",
              "</div>"
            ],
            "text/plain": [
              "              count         mean         std  ...     50%      75%     max\n",
              "Cylinders     314.0     5.477707    1.699788  ...     4.0     8.00     8.0\n",
              "Displacement  314.0   195.318471  104.331589  ...   151.0   265.75   455.0\n",
              "Horsepower    314.0   104.869427   38.096214  ...    94.5   128.00   225.0\n",
              "Weight        314.0  2990.251592  843.898596  ...  2822.5  3608.00  5140.0\n",
              "Acceleration  314.0    15.559236    2.789230  ...    15.5    17.20    24.8\n",
              "Model Year    314.0    75.898089    3.675642  ...    76.0    79.00    82.0\n",
              "\n",
              "[6 rows x 8 columns]"
            ]
          },
          "metadata": {
            "tags": []
          },
          "execution_count": 17
        }
      ]
    },
    {
      "cell_type": "code",
      "metadata": {
        "id": "W1O6SZrzL1fM"
      },
      "source": [
        "train_labels=train_dataset.pop(\"MPG\")\n",
        "test_labels=test_dataset.pop(\"MPG\")"
      ],
      "execution_count": null,
      "outputs": []
    },
    {
      "cell_type": "code",
      "metadata": {
        "id": "U56Km72oMGlY"
      },
      "source": [
        "def norm(x):\n",
        "  return (x-train_stats['mean']) / train_stats['std']\n",
        "normed_train_data = norm(train_dataset)\n",
        "normed_test_data = norm(test_dataset)"
      ],
      "execution_count": null,
      "outputs": []
    },
    {
      "cell_type": "code",
      "metadata": {
        "colab": {
          "base_uri": "https://localhost:8080/",
          "height": 204
        },
        "id": "3cB5N6fENHyj",
        "outputId": "1cb27cbe-38b5-4167-8de3-f8db24d4ade4"
      },
      "source": [
        "normed_train_data.head()"
      ],
      "execution_count": null,
      "outputs": [
        {
          "output_type": "execute_result",
          "data": {
            "text/html": [
              "<div>\n",
              "<style scoped>\n",
              "    .dataframe tbody tr th:only-of-type {\n",
              "        vertical-align: middle;\n",
              "    }\n",
              "\n",
              "    .dataframe tbody tr th {\n",
              "        vertical-align: top;\n",
              "    }\n",
              "\n",
              "    .dataframe thead th {\n",
              "        text-align: right;\n",
              "    }\n",
              "</style>\n",
              "<table border=\"1\" class=\"dataframe\">\n",
              "  <thead>\n",
              "    <tr style=\"text-align: right;\">\n",
              "      <th></th>\n",
              "      <th>Cylinders</th>\n",
              "      <th>Displacement</th>\n",
              "      <th>Horsepower</th>\n",
              "      <th>Weight</th>\n",
              "      <th>Acceleration</th>\n",
              "      <th>Model Year</th>\n",
              "    </tr>\n",
              "  </thead>\n",
              "  <tbody>\n",
              "    <tr>\n",
              "      <th>146</th>\n",
              "      <td>-0.869348</td>\n",
              "      <td>-1.009459</td>\n",
              "      <td>-0.784052</td>\n",
              "      <td>-1.025303</td>\n",
              "      <td>-0.379759</td>\n",
              "      <td>-0.516397</td>\n",
              "    </tr>\n",
              "    <tr>\n",
              "      <th>282</th>\n",
              "      <td>-0.869348</td>\n",
              "      <td>-0.530218</td>\n",
              "      <td>-0.442811</td>\n",
              "      <td>-0.118796</td>\n",
              "      <td>0.624102</td>\n",
              "      <td>0.843910</td>\n",
              "    </tr>\n",
              "    <tr>\n",
              "      <th>69</th>\n",
              "      <td>1.483887</td>\n",
              "      <td>1.482595</td>\n",
              "      <td>1.447140</td>\n",
              "      <td>1.736877</td>\n",
              "      <td>-0.738281</td>\n",
              "      <td>-1.060519</td>\n",
              "    </tr>\n",
              "    <tr>\n",
              "      <th>378</th>\n",
              "      <td>-0.869348</td>\n",
              "      <td>-0.865687</td>\n",
              "      <td>-1.099044</td>\n",
              "      <td>-1.025303</td>\n",
              "      <td>-0.308055</td>\n",
              "      <td>1.660094</td>\n",
              "    </tr>\n",
              "    <tr>\n",
              "      <th>331</th>\n",
              "      <td>-0.869348</td>\n",
              "      <td>-0.942365</td>\n",
              "      <td>-0.994047</td>\n",
              "      <td>-1.001603</td>\n",
              "      <td>0.875068</td>\n",
              "      <td>1.115971</td>\n",
              "    </tr>\n",
              "  </tbody>\n",
              "</table>\n",
              "</div>"
            ],
            "text/plain": [
              "     Cylinders  Displacement  Horsepower    Weight  Acceleration  Model Year\n",
              "146  -0.869348     -1.009459   -0.784052 -1.025303     -0.379759   -0.516397\n",
              "282  -0.869348     -0.530218   -0.442811 -0.118796      0.624102    0.843910\n",
              "69    1.483887      1.482595    1.447140  1.736877     -0.738281   -1.060519\n",
              "378  -0.869348     -0.865687   -1.099044 -1.025303     -0.308055    1.660094\n",
              "331  -0.869348     -0.942365   -0.994047 -1.001603      0.875068    1.115971"
            ]
          },
          "metadata": {
            "tags": []
          },
          "execution_count": 21
        }
      ]
    },
    {
      "cell_type": "code",
      "metadata": {
        "colab": {
          "base_uri": "https://localhost:8080/"
        },
        "id": "SDk-3H7XNaWk",
        "outputId": "7d7ceb81-7557-4bba-d7df-5f8b53b41f3a"
      },
      "source": [
        "normed_train_data.shape"
      ],
      "execution_count": null,
      "outputs": [
        {
          "output_type": "execute_result",
          "data": {
            "text/plain": [
              "(314, 6)"
            ]
          },
          "metadata": {
            "tags": []
          },
          "execution_count": 23
        }
      ]
    },
    {
      "cell_type": "markdown",
      "metadata": {
        "id": "0xIhN_0tOZT8"
      },
      "source": [
        "**데이터 모델 만들기**"
      ]
    },
    {
      "cell_type": "code",
      "metadata": {
        "id": "axz7PQsUOVBw"
      },
      "source": [
        "inputs=keras.Input(shape=(normed_train_data.shape[1],))\n",
        "h=layers.Dense(64)(inputs)\n",
        "h=layers.Activation('relu')(h) # non-linearity\n",
        "# h=layers.Dense(64, actiovation='relu)(h) is sum of two upper codes\n",
        "h=layers.Dense(32)(h)\n",
        "outputs=layers.Dense(1)(h)"
      ],
      "execution_count": null,
      "outputs": []
    },
    {
      "cell_type": "code",
      "metadata": {
        "id": "JvUIqfX1PXh8"
      },
      "source": [
        "model=keras.Model(inputs=inputs,outputs=outputs)"
      ],
      "execution_count": null,
      "outputs": []
    },
    {
      "cell_type": "code",
      "metadata": {
        "colab": {
          "base_uri": "https://localhost:8080/"
        },
        "id": "c9kG38e8PgN5",
        "outputId": "09bffd7f-4c55-4126-ee33-785a88ba247c"
      },
      "source": [
        "outputs.shape"
      ],
      "execution_count": null,
      "outputs": [
        {
          "output_type": "execute_result",
          "data": {
            "text/plain": [
              "TensorShape([None, 1])"
            ]
          },
          "metadata": {
            "tags": []
          },
          "execution_count": 26
        }
      ]
    },
    {
      "cell_type": "code",
      "metadata": {
        "colab": {
          "base_uri": "https://localhost:8080/"
        },
        "id": "KuAm83GuPqh-",
        "outputId": "ada2a5c5-09ea-4026-88a7-0519ca18330d"
      },
      "source": [
        "inputs.shape"
      ],
      "execution_count": null,
      "outputs": [
        {
          "output_type": "execute_result",
          "data": {
            "text/plain": [
              "TensorShape([None, 6])"
            ]
          },
          "metadata": {
            "tags": []
          },
          "execution_count": 27
        }
      ]
    },
    {
      "cell_type": "code",
      "metadata": {
        "id": "eKGRDIcEPth-"
      },
      "source": [
        "model.compile(loss='mse',optimizer=tf.keras.optimizers.RMSprop(0.001))"
      ],
      "execution_count": null,
      "outputs": []
    },
    {
      "cell_type": "code",
      "metadata": {
        "colab": {
          "base_uri": "https://localhost:8080/"
        },
        "id": "OSd7SQC-QHNS",
        "outputId": "467a9346-fa4b-4e80-813b-18b47e251334"
      },
      "source": [
        "model.summary()"
      ],
      "execution_count": null,
      "outputs": [
        {
          "output_type": "stream",
          "text": [
            "Model: \"model_1\"\n",
            "_________________________________________________________________\n",
            "Layer (type)                 Output Shape              Param #   \n",
            "=================================================================\n",
            "input_2 (InputLayer)         [(None, 6)]               0         \n",
            "_________________________________________________________________\n",
            "dense_2 (Dense)              (None, 64)                448       \n",
            "_________________________________________________________________\n",
            "dense_3 (Dense)              (None, 32)                2080      \n",
            "_________________________________________________________________\n",
            "dense_4 (Dense)              (None, 1)                 33        \n",
            "=================================================================\n",
            "Total params: 2,561\n",
            "Trainable params: 2,561\n",
            "Non-trainable params: 0\n",
            "_________________________________________________________________\n"
          ],
          "name": "stdout"
        }
      ]
    },
    {
      "cell_type": "code",
      "metadata": {
        "colab": {
          "base_uri": "https://localhost:8080/",
          "height": 422
        },
        "id": "t-xDDxW9SG6p",
        "outputId": "89ce9fe6-dad2-40d4-8c8c-d1727f6ae402"
      },
      "source": [
        "keras.utils.plot_model(model, \"my_first_model_with_shape_info.png\",show_shapes=True)"
      ],
      "execution_count": null,
      "outputs": [
        {
          "output_type": "execute_result",
          "data": {
            "image/png": "[encoded data removed]",
            "text/plain": [
              "<IPython.core.display.Image object>"
            ]
          },
          "metadata": {
            "tags": []
          },
          "execution_count": 42
        }
      ]
    },
    {
      "cell_type": "code",
      "metadata": {
        "colab": {
          "base_uri": "https://localhost:8080/",
          "height": 419
        },
        "id": "5dHmKjejS-Nz",
        "outputId": "f75d010b-5c52-48d4-ab46-e12ccd3a650e"
      },
      "source": [
        "normed_train_data"
      ],
      "execution_count": null,
      "outputs": [
        {
          "output_type": "execute_result",
          "data": {
            "text/html": [
              "<div>\n",
              "<style scoped>\n",
              "    .dataframe tbody tr th:only-of-type {\n",
              "        vertical-align: middle;\n",
              "    }\n",
              "\n",
              "    .dataframe tbody tr th {\n",
              "        vertical-align: top;\n",
              "    }\n",
              "\n",
              "    .dataframe thead th {\n",
              "        text-align: right;\n",
              "    }\n",
              "</style>\n",
              "<table border=\"1\" class=\"dataframe\">\n",
              "  <thead>\n",
              "    <tr style=\"text-align: right;\">\n",
              "      <th></th>\n",
              "      <th>Cylinders</th>\n",
              "      <th>Displacement</th>\n",
              "      <th>Horsepower</th>\n",
              "      <th>Weight</th>\n",
              "      <th>Acceleration</th>\n",
              "      <th>Model Year</th>\n",
              "    </tr>\n",
              "  </thead>\n",
              "  <tbody>\n",
              "    <tr>\n",
              "      <th>146</th>\n",
              "      <td>-0.869348</td>\n",
              "      <td>-1.009459</td>\n",
              "      <td>-0.784052</td>\n",
              "      <td>-1.025303</td>\n",
              "      <td>-0.379759</td>\n",
              "      <td>-0.516397</td>\n",
              "    </tr>\n",
              "    <tr>\n",
              "      <th>282</th>\n",
              "      <td>-0.869348</td>\n",
              "      <td>-0.530218</td>\n",
              "      <td>-0.442811</td>\n",
              "      <td>-0.118796</td>\n",
              "      <td>0.624102</td>\n",
              "      <td>0.843910</td>\n",
              "    </tr>\n",
              "    <tr>\n",
              "      <th>69</th>\n",
              "      <td>1.483887</td>\n",
              "      <td>1.482595</td>\n",
              "      <td>1.447140</td>\n",
              "      <td>1.736877</td>\n",
              "      <td>-0.738281</td>\n",
              "      <td>-1.060519</td>\n",
              "    </tr>\n",
              "    <tr>\n",
              "      <th>378</th>\n",
              "      <td>-0.869348</td>\n",
              "      <td>-0.865687</td>\n",
              "      <td>-1.099044</td>\n",
              "      <td>-1.025303</td>\n",
              "      <td>-0.308055</td>\n",
              "      <td>1.660094</td>\n",
              "    </tr>\n",
              "    <tr>\n",
              "      <th>331</th>\n",
              "      <td>-0.869348</td>\n",
              "      <td>-0.942365</td>\n",
              "      <td>-0.994047</td>\n",
              "      <td>-1.001603</td>\n",
              "      <td>0.875068</td>\n",
              "      <td>1.115971</td>\n",
              "    </tr>\n",
              "    <tr>\n",
              "      <th>...</th>\n",
              "      <td>...</td>\n",
              "      <td>...</td>\n",
              "      <td>...</td>\n",
              "      <td>...</td>\n",
              "      <td>...</td>\n",
              "      <td>...</td>\n",
              "    </tr>\n",
              "    <tr>\n",
              "      <th>281</th>\n",
              "      <td>0.307270</td>\n",
              "      <td>0.044872</td>\n",
              "      <td>-0.521559</td>\n",
              "      <td>-0.000298</td>\n",
              "      <td>0.946772</td>\n",
              "      <td>0.843910</td>\n",
              "    </tr>\n",
              "    <tr>\n",
              "      <th>229</th>\n",
              "      <td>1.483887</td>\n",
              "      <td>1.961837</td>\n",
              "      <td>1.972127</td>\n",
              "      <td>1.457223</td>\n",
              "      <td>-1.598734</td>\n",
              "      <td>0.299787</td>\n",
              "    </tr>\n",
              "    <tr>\n",
              "      <th>150</th>\n",
              "      <td>-0.869348</td>\n",
              "      <td>-0.836932</td>\n",
              "      <td>-0.311564</td>\n",
              "      <td>-0.710099</td>\n",
              "      <td>-0.021237</td>\n",
              "      <td>-0.516397</td>\n",
              "    </tr>\n",
              "    <tr>\n",
              "      <th>145</th>\n",
              "      <td>-0.869348</td>\n",
              "      <td>-1.076553</td>\n",
              "      <td>-1.151543</td>\n",
              "      <td>-1.169870</td>\n",
              "      <td>1.233589</td>\n",
              "      <td>-0.516397</td>\n",
              "    </tr>\n",
              "    <tr>\n",
              "      <th>182</th>\n",
              "      <td>-0.869348</td>\n",
              "      <td>-0.846517</td>\n",
              "      <td>-0.495310</td>\n",
              "      <td>-0.623596</td>\n",
              "      <td>-0.021237</td>\n",
              "      <td>0.027726</td>\n",
              "    </tr>\n",
              "  </tbody>\n",
              "</table>\n",
              "<p>314 rows × 6 columns</p>\n",
              "</div>"
            ],
            "text/plain": [
              "     Cylinders  Displacement  Horsepower    Weight  Acceleration  Model Year\n",
              "146  -0.869348     -1.009459   -0.784052 -1.025303     -0.379759   -0.516397\n",
              "282  -0.869348     -0.530218   -0.442811 -0.118796      0.624102    0.843910\n",
              "69    1.483887      1.482595    1.447140  1.736877     -0.738281   -1.060519\n",
              "378  -0.869348     -0.865687   -1.099044 -1.025303     -0.308055    1.660094\n",
              "331  -0.869348     -0.942365   -0.994047 -1.001603      0.875068    1.115971\n",
              "..         ...           ...         ...       ...           ...         ...\n",
              "281   0.307270      0.044872   -0.521559 -0.000298      0.946772    0.843910\n",
              "229   1.483887      1.961837    1.972127  1.457223     -1.598734    0.299787\n",
              "150  -0.869348     -0.836932   -0.311564 -0.710099     -0.021237   -0.516397\n",
              "145  -0.869348     -1.076553   -1.151543 -1.169870      1.233589   -0.516397\n",
              "182  -0.869348     -0.846517   -0.495310 -0.623596     -0.021237    0.027726\n",
              "\n",
              "[314 rows x 6 columns]"
            ]
          },
          "metadata": {
            "tags": []
          },
          "execution_count": 32
        }
      ]
    },
    {
      "cell_type": "code",
      "metadata": {
        "colab": {
          "base_uri": "https://localhost:8080/",
          "height": 359
        },
        "id": "O39LPIqPTx2s",
        "outputId": "79ce87fd-9d47-43e2-d021-2f54785da935"
      },
      "source": [
        "normed_train_data[:10]"
      ],
      "execution_count": null,
      "outputs": [
        {
          "output_type": "execute_result",
          "data": {
            "text/html": [
              "<div>\n",
              "<style scoped>\n",
              "    .dataframe tbody tr th:only-of-type {\n",
              "        vertical-align: middle;\n",
              "    }\n",
              "\n",
              "    .dataframe tbody tr th {\n",
              "        vertical-align: top;\n",
              "    }\n",
              "\n",
              "    .dataframe thead th {\n",
              "        text-align: right;\n",
              "    }\n",
              "</style>\n",
              "<table border=\"1\" class=\"dataframe\">\n",
              "  <thead>\n",
              "    <tr style=\"text-align: right;\">\n",
              "      <th></th>\n",
              "      <th>Cylinders</th>\n",
              "      <th>Displacement</th>\n",
              "      <th>Horsepower</th>\n",
              "      <th>Weight</th>\n",
              "      <th>Acceleration</th>\n",
              "      <th>Model Year</th>\n",
              "    </tr>\n",
              "  </thead>\n",
              "  <tbody>\n",
              "    <tr>\n",
              "      <th>146</th>\n",
              "      <td>-0.869348</td>\n",
              "      <td>-1.009459</td>\n",
              "      <td>-0.784052</td>\n",
              "      <td>-1.025303</td>\n",
              "      <td>-0.379759</td>\n",
              "      <td>-0.516397</td>\n",
              "    </tr>\n",
              "    <tr>\n",
              "      <th>282</th>\n",
              "      <td>-0.869348</td>\n",
              "      <td>-0.530218</td>\n",
              "      <td>-0.442811</td>\n",
              "      <td>-0.118796</td>\n",
              "      <td>0.624102</td>\n",
              "      <td>0.843910</td>\n",
              "    </tr>\n",
              "    <tr>\n",
              "      <th>69</th>\n",
              "      <td>1.483887</td>\n",
              "      <td>1.482595</td>\n",
              "      <td>1.447140</td>\n",
              "      <td>1.736877</td>\n",
              "      <td>-0.738281</td>\n",
              "      <td>-1.060519</td>\n",
              "    </tr>\n",
              "    <tr>\n",
              "      <th>378</th>\n",
              "      <td>-0.869348</td>\n",
              "      <td>-0.865687</td>\n",
              "      <td>-1.099044</td>\n",
              "      <td>-1.025303</td>\n",
              "      <td>-0.308055</td>\n",
              "      <td>1.660094</td>\n",
              "    </tr>\n",
              "    <tr>\n",
              "      <th>331</th>\n",
              "      <td>-0.869348</td>\n",
              "      <td>-0.942365</td>\n",
              "      <td>-0.994047</td>\n",
              "      <td>-1.001603</td>\n",
              "      <td>0.875068</td>\n",
              "      <td>1.115971</td>\n",
              "    </tr>\n",
              "    <tr>\n",
              "      <th>257</th>\n",
              "      <td>0.307270</td>\n",
              "      <td>0.351586</td>\n",
              "      <td>-0.390312</td>\n",
              "      <td>0.260397</td>\n",
              "      <td>0.588250</td>\n",
              "      <td>0.571849</td>\n",
              "    </tr>\n",
              "    <tr>\n",
              "      <th>310</th>\n",
              "      <td>-0.869348</td>\n",
              "      <td>-1.019044</td>\n",
              "      <td>-1.177792</td>\n",
              "      <td>-1.211344</td>\n",
              "      <td>1.161885</td>\n",
              "      <td>1.115971</td>\n",
              "    </tr>\n",
              "    <tr>\n",
              "      <th>328</th>\n",
              "      <td>-0.869348</td>\n",
              "      <td>-0.472709</td>\n",
              "      <td>-0.994047</td>\n",
              "      <td>0.307796</td>\n",
              "      <td>2.237451</td>\n",
              "      <td>1.115971</td>\n",
              "    </tr>\n",
              "    <tr>\n",
              "      <th>125</th>\n",
              "      <td>0.307270</td>\n",
              "      <td>0.025702</td>\n",
              "      <td>-0.259066</td>\n",
              "      <td>0.132419</td>\n",
              "      <td>0.337285</td>\n",
              "      <td>-0.516397</td>\n",
              "    </tr>\n",
              "    <tr>\n",
              "      <th>108</th>\n",
              "      <td>-0.869348</td>\n",
              "      <td>-0.942365</td>\n",
              "      <td>-0.442811</td>\n",
              "      <td>-0.842816</td>\n",
              "      <td>1.233589</td>\n",
              "      <td>-0.788458</td>\n",
              "    </tr>\n",
              "  </tbody>\n",
              "</table>\n",
              "</div>"
            ],
            "text/plain": [
              "     Cylinders  Displacement  Horsepower    Weight  Acceleration  Model Year\n",
              "146  -0.869348     -1.009459   -0.784052 -1.025303     -0.379759   -0.516397\n",
              "282  -0.869348     -0.530218   -0.442811 -0.118796      0.624102    0.843910\n",
              "69    1.483887      1.482595    1.447140  1.736877     -0.738281   -1.060519\n",
              "378  -0.869348     -0.865687   -1.099044 -1.025303     -0.308055    1.660094\n",
              "331  -0.869348     -0.942365   -0.994047 -1.001603      0.875068    1.115971\n",
              "257   0.307270      0.351586   -0.390312  0.260397      0.588250    0.571849\n",
              "310  -0.869348     -1.019044   -1.177792 -1.211344      1.161885    1.115971\n",
              "328  -0.869348     -0.472709   -0.994047  0.307796      2.237451    1.115971\n",
              "125   0.307270      0.025702   -0.259066  0.132419      0.337285   -0.516397\n",
              "108  -0.869348     -0.942365   -0.442811 -0.842816      1.233589   -0.788458"
            ]
          },
          "metadata": {
            "tags": []
          },
          "execution_count": 33
        }
      ]
    },
    {
      "cell_type": "code",
      "metadata": {
        "id": "53HursrdT1cJ"
      },
      "source": [
        "example_batch=normed_train_data[:5]\n",
        "example_result=model.predict(example_batch)"
      ],
      "execution_count": null,
      "outputs": []
    },
    {
      "cell_type": "code",
      "metadata": {
        "colab": {
          "base_uri": "https://localhost:8080/"
        },
        "id": "LXwbnyt-T5s8",
        "outputId": "8231d738-5d05-45f7-94d1-9f3cc2d3b7d1"
      },
      "source": [
        "example_result"
      ],
      "execution_count": null,
      "outputs": [
        {
          "output_type": "execute_result",
          "data": {
            "text/plain": [
              "array([[-0.04993629],\n",
              "       [ 0.15283337],\n",
              "       [-0.26564404],\n",
              "       [ 0.24175054],\n",
              "       [ 0.19542545]], dtype=float32)"
            ]
          },
          "metadata": {
            "tags": []
          },
          "execution_count": 36
        }
      ]
    },
    {
      "cell_type": "markdown",
      "metadata": {
        "id": "GZ6QydGTUROB"
      },
      "source": [
        "**모델 학습**"
      ]
    },
    {
      "cell_type": "code",
      "metadata": {
        "colab": {
          "base_uri": "https://localhost:8080/"
        },
        "id": "ii5Z4vpdUDqb",
        "outputId": "43d456d3-9807-4ac7-d8d2-c5ce0cac3b96"
      },
      "source": [
        "EPOCHS=10\n",
        "\n",
        "history=model.fit(\n",
        "    normed_train_data,train_labels,epochs=EPOCHS, validation_split = 0.2\n",
        ")"
      ],
      "execution_count": null,
      "outputs": [
        {
          "output_type": "stream",
          "text": [
            "Epoch 1/10\n",
            "8/8 [==============================] - 1s 21ms/step - loss: 584.3074 - val_loss: 587.2073\n",
            "Epoch 2/10\n",
            "8/8 [==============================] - 0s 6ms/step - loss: 552.2714 - val_loss: 559.4545\n",
            "Epoch 3/10\n",
            "8/8 [==============================] - 0s 6ms/step - loss: 527.6818 - val_loss: 534.4429\n",
            "Epoch 4/10\n",
            "8/8 [==============================] - 0s 5ms/step - loss: 506.5378 - val_loss: 514.6097\n",
            "Epoch 5/10\n",
            "8/8 [==============================] - 0s 7ms/step - loss: 485.6735 - val_loss: 493.0927\n",
            "Epoch 6/10\n",
            "8/8 [==============================] - 0s 5ms/step - loss: 464.1948 - val_loss: 470.6008\n",
            "Epoch 7/10\n",
            "8/8 [==============================] - 0s 4ms/step - loss: 440.4505 - val_loss: 445.5078\n",
            "Epoch 8/10\n",
            "8/8 [==============================] - 0s 5ms/step - loss: 413.9909 - val_loss: 417.4497\n",
            "Epoch 9/10\n",
            "8/8 [==============================] - 0s 5ms/step - loss: 384.7486 - val_loss: 386.6996\n",
            "Epoch 10/10\n",
            "8/8 [==============================] - 0s 5ms/step - loss: 352.1958 - val_loss: 352.9944\n"
          ],
          "name": "stdout"
        }
      ]
    },
    {
      "cell_type": "code",
      "metadata": {
        "colab": {
          "base_uri": "https://localhost:8080/"
        },
        "id": "0C8TAb5EVHKF",
        "outputId": "228a483b-7c0d-441c-ca01-b556d7f57b68"
      },
      "source": [
        "EPOCHS=100\n",
        "\n",
        "history=model.fit(\n",
        "    normed_train_data,train_labels,epochs=EPOCHS, validation_split = 0.2\n",
        ")"
      ],
      "execution_count": null,
      "outputs": [
        {
          "output_type": "stream",
          "text": [
            "Epoch 1/100\n",
            "8/8 [==============================] - 0s 12ms/step - loss: 317.5220 - val_loss: 315.9949\n",
            "Epoch 2/100\n",
            "8/8 [==============================] - 0s 5ms/step - loss: 282.8665 - val_loss: 278.7812\n",
            "Epoch 3/100\n",
            "8/8 [==============================] - 0s 5ms/step - loss: 244.2474 - val_loss: 241.1720\n",
            "Epoch 4/100\n",
            "8/8 [==============================] - 0s 6ms/step - loss: 206.1197 - val_loss: 202.2149\n",
            "Epoch 5/100\n",
            "8/8 [==============================] - 0s 5ms/step - loss: 168.4931 - val_loss: 164.3473\n",
            "Epoch 6/100\n",
            "8/8 [==============================] - 0s 4ms/step - loss: 132.3867 - val_loss: 128.1550\n",
            "Epoch 7/100\n",
            "8/8 [==============================] - 0s 4ms/step - loss: 99.4857 - val_loss: 95.7457\n",
            "Epoch 8/100\n",
            "8/8 [==============================] - 0s 4ms/step - loss: 70.5506 - val_loss: 68.5891\n",
            "Epoch 9/100\n",
            "8/8 [==============================] - 0s 4ms/step - loss: 47.5104 - val_loss: 45.3813\n",
            "Epoch 10/100\n",
            "8/8 [==============================] - 0s 6ms/step - loss: 31.4887 - val_loss: 30.2684\n",
            "Epoch 11/100\n",
            "8/8 [==============================] - 0s 5ms/step - loss: 20.3885 - val_loss: 20.8201\n",
            "Epoch 12/100\n",
            "8/8 [==============================] - 0s 5ms/step - loss: 15.5490 - val_loss: 15.6262\n",
            "Epoch 13/100\n",
            "8/8 [==============================] - 0s 7ms/step - loss: 13.3944 - val_loss: 14.1844\n",
            "Epoch 14/100\n",
            "8/8 [==============================] - 0s 5ms/step - loss: 13.2533 - val_loss: 13.5996\n",
            "Epoch 15/100\n",
            "8/8 [==============================] - 0s 5ms/step - loss: 13.2592 - val_loss: 12.9644\n",
            "Epoch 16/100\n",
            "8/8 [==============================] - 0s 5ms/step - loss: 12.6079 - val_loss: 13.4181\n",
            "Epoch 17/100\n",
            "8/8 [==============================] - 0s 5ms/step - loss: 13.0708 - val_loss: 12.5601\n",
            "Epoch 18/100\n",
            "8/8 [==============================] - 0s 5ms/step - loss: 12.5018 - val_loss: 12.6249\n",
            "Epoch 19/100\n",
            "8/8 [==============================] - 0s 5ms/step - loss: 12.6809 - val_loss: 12.6639\n",
            "Epoch 20/100\n",
            "8/8 [==============================] - 0s 5ms/step - loss: 12.5598 - val_loss: 12.7566\n",
            "Epoch 21/100\n",
            "8/8 [==============================] - 0s 6ms/step - loss: 12.9193 - val_loss: 12.3064\n",
            "Epoch 22/100\n",
            "8/8 [==============================] - 0s 4ms/step - loss: 12.7951 - val_loss: 12.2493\n",
            "Epoch 23/100\n",
            "8/8 [==============================] - 0s 5ms/step - loss: 12.9709 - val_loss: 12.0158\n",
            "Epoch 24/100\n",
            "8/8 [==============================] - 0s 5ms/step - loss: 12.2886 - val_loss: 12.9067\n",
            "Epoch 25/100\n",
            "8/8 [==============================] - 0s 4ms/step - loss: 12.4758 - val_loss: 12.8662\n",
            "Epoch 26/100\n",
            "8/8 [==============================] - 0s 5ms/step - loss: 12.5260 - val_loss: 11.7555\n",
            "Epoch 27/100\n",
            "8/8 [==============================] - 0s 6ms/step - loss: 12.7025 - val_loss: 12.1301\n",
            "Epoch 28/100\n",
            "8/8 [==============================] - 0s 5ms/step - loss: 12.5373 - val_loss: 12.2228\n",
            "Epoch 29/100\n",
            "8/8 [==============================] - 0s 4ms/step - loss: 12.4710 - val_loss: 12.7436\n",
            "Epoch 30/100\n",
            "8/8 [==============================] - 0s 5ms/step - loss: 12.7505 - val_loss: 11.9260\n",
            "Epoch 31/100\n",
            "8/8 [==============================] - 0s 4ms/step - loss: 12.5817 - val_loss: 13.3297\n",
            "Epoch 32/100\n",
            "8/8 [==============================] - 0s 5ms/step - loss: 12.4296 - val_loss: 11.7416\n",
            "Epoch 33/100\n",
            "8/8 [==============================] - 0s 5ms/step - loss: 12.8883 - val_loss: 12.0272\n",
            "Epoch 34/100\n",
            "8/8 [==============================] - 0s 5ms/step - loss: 12.6523 - val_loss: 12.5208\n",
            "Epoch 35/100\n",
            "8/8 [==============================] - 0s 5ms/step - loss: 12.9046 - val_loss: 12.1973\n",
            "Epoch 36/100\n",
            "8/8 [==============================] - 0s 6ms/step - loss: 12.6629 - val_loss: 12.1127\n",
            "Epoch 37/100\n",
            "8/8 [==============================] - 0s 5ms/step - loss: 12.8176 - val_loss: 12.4819\n",
            "Epoch 38/100\n",
            "8/8 [==============================] - 0s 5ms/step - loss: 12.4841 - val_loss: 12.1686\n",
            "Epoch 39/100\n",
            "8/8 [==============================] - 0s 5ms/step - loss: 12.4270 - val_loss: 11.9222\n",
            "Epoch 40/100\n",
            "8/8 [==============================] - 0s 7ms/step - loss: 12.3956 - val_loss: 11.5895\n",
            "Epoch 41/100\n",
            "8/8 [==============================] - 0s 5ms/step - loss: 12.9083 - val_loss: 12.3504\n",
            "Epoch 42/100\n",
            "8/8 [==============================] - 0s 5ms/step - loss: 12.1886 - val_loss: 14.2383\n",
            "Epoch 43/100\n",
            "8/8 [==============================] - 0s 4ms/step - loss: 12.7142 - val_loss: 12.5485\n",
            "Epoch 44/100\n",
            "8/8 [==============================] - 0s 4ms/step - loss: 12.9080 - val_loss: 12.6443\n",
            "Epoch 45/100\n",
            "8/8 [==============================] - 0s 5ms/step - loss: 12.7263 - val_loss: 12.4656\n",
            "Epoch 46/100\n",
            "8/8 [==============================] - 0s 5ms/step - loss: 12.6414 - val_loss: 12.0205\n",
            "Epoch 47/100\n",
            "8/8 [==============================] - 0s 4ms/step - loss: 12.7852 - val_loss: 12.3538\n",
            "Epoch 48/100\n",
            "8/8 [==============================] - 0s 5ms/step - loss: 12.7939 - val_loss: 12.2149\n",
            "Epoch 49/100\n",
            "8/8 [==============================] - 0s 4ms/step - loss: 12.6161 - val_loss: 11.8109\n",
            "Epoch 50/100\n",
            "8/8 [==============================] - 0s 5ms/step - loss: 12.2253 - val_loss: 12.9109\n",
            "Epoch 51/100\n",
            "8/8 [==============================] - 0s 5ms/step - loss: 12.6536 - val_loss: 11.7704\n",
            "Epoch 52/100\n",
            "8/8 [==============================] - 0s 5ms/step - loss: 12.7949 - val_loss: 12.2011\n",
            "Epoch 53/100\n",
            "8/8 [==============================] - 0s 5ms/step - loss: 12.2802 - val_loss: 13.3019\n",
            "Epoch 54/100\n",
            "8/8 [==============================] - 0s 6ms/step - loss: 12.6115 - val_loss: 12.0523\n",
            "Epoch 55/100\n",
            "8/8 [==============================] - 0s 5ms/step - loss: 12.7376 - val_loss: 12.0277\n",
            "Epoch 56/100\n",
            "8/8 [==============================] - 0s 5ms/step - loss: 12.3209 - val_loss: 11.7810\n",
            "Epoch 57/100\n",
            "8/8 [==============================] - 0s 5ms/step - loss: 12.4774 - val_loss: 12.1232\n",
            "Epoch 58/100\n",
            "8/8 [==============================] - 0s 5ms/step - loss: 12.7366 - val_loss: 12.4292\n",
            "Epoch 59/100\n",
            "8/8 [==============================] - 0s 5ms/step - loss: 12.6950 - val_loss: 12.4242\n",
            "Epoch 60/100\n",
            "8/8 [==============================] - 0s 6ms/step - loss: 12.9638 - val_loss: 12.9976\n",
            "Epoch 61/100\n",
            "8/8 [==============================] - 0s 5ms/step - loss: 12.9165 - val_loss: 12.3442\n",
            "Epoch 62/100\n",
            "8/8 [==============================] - 0s 5ms/step - loss: 12.6337 - val_loss: 12.3691\n",
            "Epoch 63/100\n",
            "8/8 [==============================] - 0s 4ms/step - loss: 12.8433 - val_loss: 13.1422\n",
            "Epoch 64/100\n",
            "8/8 [==============================] - 0s 5ms/step - loss: 12.5768 - val_loss: 11.9333\n",
            "Epoch 65/100\n",
            "8/8 [==============================] - 0s 5ms/step - loss: 12.9063 - val_loss: 12.0545\n",
            "Epoch 66/100\n",
            "8/8 [==============================] - 0s 5ms/step - loss: 12.6983 - val_loss: 11.8725\n",
            "Epoch 67/100\n",
            "8/8 [==============================] - 0s 5ms/step - loss: 12.6122 - val_loss: 12.0393\n",
            "Epoch 68/100\n",
            "8/8 [==============================] - 0s 5ms/step - loss: 12.5650 - val_loss: 12.5730\n",
            "Epoch 69/100\n",
            "8/8 [==============================] - 0s 5ms/step - loss: 12.5484 - val_loss: 12.8938\n",
            "Epoch 70/100\n",
            "8/8 [==============================] - 0s 5ms/step - loss: 12.4991 - val_loss: 12.0037\n",
            "Epoch 71/100\n",
            "8/8 [==============================] - 0s 7ms/step - loss: 12.7246 - val_loss: 12.3089\n",
            "Epoch 72/100\n",
            "8/8 [==============================] - 0s 4ms/step - loss: 12.9804 - val_loss: 11.9153\n",
            "Epoch 73/100\n",
            "8/8 [==============================] - 0s 5ms/step - loss: 12.7432 - val_loss: 12.6129\n",
            "Epoch 74/100\n",
            "8/8 [==============================] - 0s 5ms/step - loss: 12.7946 - val_loss: 12.6713\n",
            "Epoch 75/100\n",
            "8/8 [==============================] - 0s 4ms/step - loss: 12.7214 - val_loss: 12.6114\n",
            "Epoch 76/100\n",
            "8/8 [==============================] - 0s 5ms/step - loss: 12.6542 - val_loss: 12.2382\n",
            "Epoch 77/100\n",
            "8/8 [==============================] - 0s 5ms/step - loss: 12.4682 - val_loss: 12.0284\n",
            "Epoch 78/100\n",
            "8/8 [==============================] - 0s 4ms/step - loss: 12.3476 - val_loss: 12.8189\n",
            "Epoch 79/100\n",
            "8/8 [==============================] - 0s 5ms/step - loss: 13.3967 - val_loss: 12.1742\n",
            "Epoch 80/100\n",
            "8/8 [==============================] - 0s 5ms/step - loss: 12.4080 - val_loss: 12.2431\n",
            "Epoch 81/100\n",
            "8/8 [==============================] - 0s 5ms/step - loss: 12.6158 - val_loss: 12.1212\n",
            "Epoch 82/100\n",
            "8/8 [==============================] - 0s 6ms/step - loss: 12.6900 - val_loss: 12.6787\n",
            "Epoch 83/100\n",
            "8/8 [==============================] - 0s 5ms/step - loss: 12.9953 - val_loss: 11.8066\n",
            "Epoch 84/100\n",
            "8/8 [==============================] - 0s 5ms/step - loss: 12.9943 - val_loss: 12.2407\n",
            "Epoch 85/100\n",
            "8/8 [==============================] - 0s 5ms/step - loss: 12.7102 - val_loss: 12.1061\n",
            "Epoch 86/100\n",
            "8/8 [==============================] - 0s 5ms/step - loss: 12.6156 - val_loss: 11.9150\n",
            "Epoch 87/100\n",
            "8/8 [==============================] - 0s 5ms/step - loss: 12.5337 - val_loss: 12.0164\n",
            "Epoch 88/100\n",
            "8/8 [==============================] - 0s 5ms/step - loss: 12.5383 - val_loss: 12.2726\n",
            "Epoch 89/100\n",
            "8/8 [==============================] - 0s 5ms/step - loss: 12.4994 - val_loss: 11.6490\n",
            "Epoch 90/100\n",
            "8/8 [==============================] - 0s 5ms/step - loss: 12.1868 - val_loss: 12.9475\n",
            "Epoch 91/100\n",
            "8/8 [==============================] - 0s 5ms/step - loss: 12.5811 - val_loss: 12.6851\n",
            "Epoch 92/100\n",
            "8/8 [==============================] - 0s 5ms/step - loss: 12.4470 - val_loss: 12.2457\n",
            "Epoch 93/100\n",
            "8/8 [==============================] - 0s 6ms/step - loss: 12.6820 - val_loss: 12.8039\n",
            "Epoch 94/100\n",
            "8/8 [==============================] - 0s 6ms/step - loss: 12.4593 - val_loss: 12.3835\n",
            "Epoch 95/100\n",
            "8/8 [==============================] - 0s 6ms/step - loss: 12.4100 - val_loss: 12.6671\n",
            "Epoch 96/100\n",
            "8/8 [==============================] - 0s 5ms/step - loss: 12.7705 - val_loss: 12.1930\n",
            "Epoch 97/100\n",
            "8/8 [==============================] - 0s 5ms/step - loss: 12.2316 - val_loss: 12.2548\n",
            "Epoch 98/100\n",
            "8/8 [==============================] - 0s 4ms/step - loss: 12.6820 - val_loss: 13.2264\n",
            "Epoch 99/100\n",
            "8/8 [==============================] - 0s 5ms/step - loss: 13.2119 - val_loss: 11.9493\n",
            "Epoch 100/100\n",
            "8/8 [==============================] - 0s 5ms/step - loss: 12.6509 - val_loss: 12.1475\n"
          ],
          "name": "stdout"
        }
      ]
    },
    {
      "cell_type": "code",
      "metadata": {
        "id": "6dpck7WQVVCO"
      },
      "source": [
        "early_stop=keras.callbacks.EarlyStopping(monitor='val_loss',patience=10)"
      ],
      "execution_count": null,
      "outputs": []
    },
    {
      "cell_type": "code",
      "metadata": {
        "colab": {
          "base_uri": "https://localhost:8080/"
        },
        "id": "28LzyjwnVdBW",
        "outputId": "b5bff832-abdc-43b1-9e71-77c179652a2b"
      },
      "source": [
        "model.fit(\n",
        "    normed_train_data,\n",
        "    train_labels,\n",
        "    epochs=EPOCHS,\n",
        "    validation_split=0.2,\n",
        "    callbacks=[early_stop]\n",
        ")"
      ],
      "execution_count": null,
      "outputs": [
        {
          "output_type": "stream",
          "text": [
            "Epoch 1/100\n",
            "8/8 [==============================] - 0s 14ms/step - loss: 12.6985 - val_loss: 11.8062\n",
            "Epoch 2/100\n",
            "8/8 [==============================] - 0s 5ms/step - loss: 12.6853 - val_loss: 11.8570\n",
            "Epoch 3/100\n",
            "8/8 [==============================] - 0s 6ms/step - loss: 12.3939 - val_loss: 12.3632\n",
            "Epoch 4/100\n",
            "8/8 [==============================] - 0s 4ms/step - loss: 12.6885 - val_loss: 12.0189\n",
            "Epoch 5/100\n",
            "8/8 [==============================] - 0s 7ms/step - loss: 12.5417 - val_loss: 12.0663\n",
            "Epoch 6/100\n",
            "8/8 [==============================] - 0s 7ms/step - loss: 12.4606 - val_loss: 12.2016\n",
            "Epoch 7/100\n",
            "8/8 [==============================] - 0s 5ms/step - loss: 12.5465 - val_loss: 12.3751\n",
            "Epoch 8/100\n",
            "8/8 [==============================] - 0s 5ms/step - loss: 12.6330 - val_loss: 12.2278\n",
            "Epoch 9/100\n",
            "8/8 [==============================] - 0s 4ms/step - loss: 12.4591 - val_loss: 12.5360\n",
            "Epoch 10/100\n",
            "8/8 [==============================] - 0s 4ms/step - loss: 12.5052 - val_loss: 11.9302\n",
            "Epoch 11/100\n",
            "8/8 [==============================] - 0s 5ms/step - loss: 12.5950 - val_loss: 12.0923\n"
          ],
          "name": "stdout"
        },
        {
          "output_type": "execute_result",
          "data": {
            "text/plain": [
              "<tensorflow.python.keras.callbacks.History at 0x7f7905fd2c10>"
            ]
          },
          "metadata": {
            "tags": []
          },
          "execution_count": 46
        }
      ]
    },
    {
      "cell_type": "code",
      "metadata": {
        "colab": {
          "base_uri": "https://localhost:8080/"
        },
        "id": "wG_5NiCeV9cy",
        "outputId": "15bbafaf-66a3-437a-d943-cc034e677cbb"
      },
      "source": [
        "loss = model.evaluate(normed_test_data, test_labels, verbose=2)"
      ],
      "execution_count": null,
      "outputs": [
        {
          "output_type": "stream",
          "text": [
            "3/3 - 0s - loss: 10.7269\n"
          ],
          "name": "stdout"
        }
      ]
    },
    {
      "cell_type": "markdown",
      "metadata": {
        "id": "dnpMWMDIWHlc"
      },
      "source": [
        "**예측**"
      ]
    },
    {
      "cell_type": "code",
      "metadata": {
        "colab": {
          "base_uri": "https://localhost:8080/",
          "height": 279
        },
        "id": "HzbjdXO9WKEg",
        "outputId": "c456675f-b317-4d17-b3f7-d4b9549b2e36"
      },
      "source": [
        "test_predictions = model.predict(normed_test_data).flatten()\n",
        "\n",
        "plt.scatter(test_labels, test_predictions)\n",
        "plt.xlabel('True Values [MPG]')\n",
        "plt.ylabel('Predictions [MPG]')\n",
        "plt.axis('equal')\n",
        "plt.axis('square')\n",
        "plt.xlim([0,plt.xlim()[1]])\n",
        "plt.ylim([0,plt.ylim()[1]])\n",
        "_ = plt.plot([-100, 100], [-100, 100])"
      ],
      "execution_count": null,
      "outputs": [
        {
          "output_type": "display_data",
          "data": {
            "image/png": "[encoded data removed]",
            "text/plain": [
              "<Figure size 432x288 with 1 Axes>"
            ]
          },
          "metadata": {
            "tags": [],
            "needs_background": "light"
          }
        }
      ]
    },
    {
      "cell_type": "markdown",
      "metadata": {
        "id": "EIW_nS8sZYHg"
      },
      "source": [
        "**마무리**"
      ]
    },
    {
      "cell_type": "markdown",
      "metadata": {
        "id": "z5-EaN6oZnZG"
      },
      "source": [
        "궁금한점\n",
        "\n",
        "\n",
        "*   함수의 W와 b값의 변화를 관찰하고 싶다. => **다음 시간에 해보자...**\n",
        "*   더 정확도를 높이려면 어떻게 해야하는지 => **다음 강의에 나옴**\n",
        "*   loss는 대체 어떻게 구하는지 영문을 모르겠다. MPG 값도 빼고 뭐하고 했는데 그걸 자기 알아서 처리하는것에 대해서 궁금하다.\n",
        "*   간단하게 넘어간 mse나 RMSProp 등 기본 개념 공부가 필요할 것 같다.\n",
        "\n"
      ]
    },
    {
      "cell_type": "markdown",
      "metadata": {
        "id": "chxUnngVami9"
      },
      "source": [
        "해야할 것\n",
        "\n",
        "\n",
        "*   함수 W,b 값 보는 코드 추가\n",
        "*   loss값 구하는 로직 확인하기. (코드 보기)\n",
        "*   머신러닝 기본 개념 공부\n",
        "\n"
      ]
    }
  ]
}